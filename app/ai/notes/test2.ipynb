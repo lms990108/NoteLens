{
 "cells": [
  {
   "cell_type": "code",
   "execution_count": 3,
   "metadata": {},
   "outputs": [
    {
     "name": "stderr",
     "output_type": "stream",
     "text": [
      "Error: Can not import paddle core while this file exists: c:\\Users\\lms99\\anaconda3\\envs\\test1\\lib\\site-packages\\paddle\\base\\libpaddle.pyd\n"
     ]
    },
    {
     "ename": "ImportError",
     "evalue": "generic_type: type \"_gpuDeviceProperties\" is already registered!",
     "output_type": "error",
     "traceback": [
      "\u001b[1;31m---------------------------------------------------------------------------\u001b[0m",
      "\u001b[1;31mImportError\u001b[0m                               Traceback (most recent call last)",
      "Cell \u001b[1;32mIn[3], line 1\u001b[0m\n\u001b[1;32m----> 1\u001b[0m \u001b[38;5;28;01mfrom\u001b[39;00m \u001b[38;5;21;01mpaddleocr\u001b[39;00m \u001b[38;5;28;01mimport\u001b[39;00m PaddleOCR\n\u001b[0;32m      2\u001b[0m \u001b[38;5;28;01mfrom\u001b[39;00m \u001b[38;5;21;01mPIL\u001b[39;00m \u001b[38;5;28;01mimport\u001b[39;00m Image\n\u001b[0;32m      4\u001b[0m \u001b[38;5;66;03m# 이미지 경로 설정\u001b[39;00m\n",
      "File \u001b[1;32mc:\\Users\\lms99\\anaconda3\\envs\\test1\\lib\\site-packages\\paddleocr\\__init__.py:14\u001b[0m\n\u001b[0;32m      1\u001b[0m \u001b[38;5;66;03m# Copyright (c) 2020 PaddlePaddle Authors. All Rights Reserved.\u001b[39;00m\n\u001b[0;32m      2\u001b[0m \u001b[38;5;66;03m#\u001b[39;00m\n\u001b[0;32m      3\u001b[0m \u001b[38;5;66;03m# Licensed under the Apache License, Version 2.0 (the \"License\");\u001b[39;00m\n\u001b[1;32m   (...)\u001b[0m\n\u001b[0;32m     12\u001b[0m \u001b[38;5;66;03m# See the License for the specific language governing permissions and\u001b[39;00m\n\u001b[0;32m     13\u001b[0m \u001b[38;5;66;03m# limitations under the License.\u001b[39;00m\n\u001b[1;32m---> 14\u001b[0m \u001b[38;5;28;01mfrom\u001b[39;00m \u001b[38;5;21;01m.\u001b[39;00m\u001b[38;5;21;01mpaddleocr\u001b[39;00m \u001b[38;5;28;01mimport\u001b[39;00m \u001b[38;5;241m*\u001b[39m\n\u001b[0;32m     16\u001b[0m __version__ \u001b[38;5;241m=\u001b[39m paddleocr\u001b[38;5;241m.\u001b[39mVERSION\n\u001b[0;32m     17\u001b[0m __all__ \u001b[38;5;241m=\u001b[39m [\n\u001b[0;32m     18\u001b[0m     \u001b[38;5;124m'\u001b[39m\u001b[38;5;124mPaddleOCR\u001b[39m\u001b[38;5;124m'\u001b[39m, \u001b[38;5;124m'\u001b[39m\u001b[38;5;124mPPStructure\u001b[39m\u001b[38;5;124m'\u001b[39m, \u001b[38;5;124m'\u001b[39m\u001b[38;5;124mdraw_ocr\u001b[39m\u001b[38;5;124m'\u001b[39m, \u001b[38;5;124m'\u001b[39m\u001b[38;5;124mdraw_structure_result\u001b[39m\u001b[38;5;124m'\u001b[39m,\n\u001b[0;32m     19\u001b[0m     \u001b[38;5;124m'\u001b[39m\u001b[38;5;124msave_structure_res\u001b[39m\u001b[38;5;124m'\u001b[39m, \u001b[38;5;124m'\u001b[39m\u001b[38;5;124mdownload_with_progressbar\u001b[39m\u001b[38;5;124m'\u001b[39m, \u001b[38;5;124m'\u001b[39m\u001b[38;5;124msorted_layout_boxes\u001b[39m\u001b[38;5;124m'\u001b[39m,\n\u001b[0;32m     20\u001b[0m     \u001b[38;5;124m'\u001b[39m\u001b[38;5;124mconvert_info_docx\u001b[39m\u001b[38;5;124m'\u001b[39m, \u001b[38;5;124m'\u001b[39m\u001b[38;5;124mto_excel\u001b[39m\u001b[38;5;124m'\u001b[39m\n\u001b[0;32m     21\u001b[0m ]\n",
      "File \u001b[1;32mc:\\Users\\lms99\\anaconda3\\envs\\test1\\lib\\site-packages\\paddleocr\\paddleocr.py:21\u001b[0m\n\u001b[0;32m     17\u001b[0m \u001b[38;5;28;01mimport\u001b[39;00m \u001b[38;5;21;01mimportlib\u001b[39;00m\n\u001b[0;32m     19\u001b[0m \u001b[38;5;21m__dir__\u001b[39m \u001b[38;5;241m=\u001b[39m os\u001b[38;5;241m.\u001b[39mpath\u001b[38;5;241m.\u001b[39mdirname(\u001b[38;5;18m__file__\u001b[39m)\n\u001b[1;32m---> 21\u001b[0m \u001b[38;5;28;01mimport\u001b[39;00m \u001b[38;5;21;01mpaddle\u001b[39;00m\n\u001b[0;32m     23\u001b[0m sys\u001b[38;5;241m.\u001b[39mpath\u001b[38;5;241m.\u001b[39mappend(os\u001b[38;5;241m.\u001b[39mpath\u001b[38;5;241m.\u001b[39mjoin(\u001b[38;5;21m__dir__\u001b[39m, \u001b[38;5;124m'\u001b[39m\u001b[38;5;124m'\u001b[39m))\n\u001b[0;32m     25\u001b[0m \u001b[38;5;28;01mimport\u001b[39;00m \u001b[38;5;21;01mcv2\u001b[39;00m\n",
      "File \u001b[1;32mc:\\Users\\lms99\\anaconda3\\envs\\test1\\lib\\site-packages\\paddle\\__init__.py:28\u001b[0m\n\u001b[0;32m     21\u001b[0m     sys\u001b[38;5;241m.\u001b[39mstderr\u001b[38;5;241m.\u001b[39mwrite(\n\u001b[0;32m     22\u001b[0m \u001b[38;5;250m        \u001b[39m\u001b[38;5;124;03m'''Warning with import paddle: you should not\u001b[39;00m\n\u001b[0;32m     23\u001b[0m \u001b[38;5;124;03m     import paddle from the source directory; please install paddlepaddle*.whl firstly.'''\u001b[39;00m\n\u001b[0;32m     24\u001b[0m     )\n\u001b[0;32m     26\u001b[0m \u001b[38;5;66;03m# NOTE(SigureMo): We should place the import of base.core before other modules,\u001b[39;00m\n\u001b[0;32m     27\u001b[0m \u001b[38;5;66;03m# because there are some initialization codes in base/core/__init__.py.\u001b[39;00m\n\u001b[1;32m---> 28\u001b[0m \u001b[38;5;28;01mfrom\u001b[39;00m \u001b[38;5;21;01m.\u001b[39;00m\u001b[38;5;21;01mbase\u001b[39;00m \u001b[38;5;28;01mimport\u001b[39;00m core  \u001b[38;5;66;03m# noqa: F401\u001b[39;00m\n\u001b[0;32m     29\u001b[0m \u001b[38;5;28;01mfrom\u001b[39;00m \u001b[38;5;21;01m.\u001b[39;00m\u001b[38;5;21;01mbatch\u001b[39;00m \u001b[38;5;28;01mimport\u001b[39;00m batch\n\u001b[0;32m     31\u001b[0m \u001b[38;5;66;03m# Do the *DUPLICATED* monkey-patch for the tensor object.\u001b[39;00m\n\u001b[0;32m     32\u001b[0m \u001b[38;5;66;03m# We need remove the duplicated code here once we fix\u001b[39;00m\n\u001b[0;32m     33\u001b[0m \u001b[38;5;66;03m# the illogical implement in the monkey-patch methods later.\u001b[39;00m\n",
      "File \u001b[1;32mc:\\Users\\lms99\\anaconda3\\envs\\test1\\lib\\site-packages\\paddle\\base\\__init__.py:36\u001b[0m\n\u001b[0;32m     33\u001b[0m     \u001b[38;5;28;01mexcept\u001b[39;00m \u001b[38;5;167;01mException\u001b[39;00m \u001b[38;5;28;01mas\u001b[39;00m e:\n\u001b[0;32m     34\u001b[0m         \u001b[38;5;28;01mraise\u001b[39;00m e\n\u001b[1;32m---> 36\u001b[0m \u001b[38;5;28;01mfrom\u001b[39;00m \u001b[38;5;21;01m.\u001b[39;00m \u001b[38;5;28;01mimport\u001b[39;00m core\n\u001b[0;32m     38\u001b[0m \u001b[38;5;66;03m# import all class inside framework into base module\u001b[39;00m\n\u001b[0;32m     39\u001b[0m \u001b[38;5;28;01mfrom\u001b[39;00m \u001b[38;5;21;01m.\u001b[39;00m \u001b[38;5;28;01mimport\u001b[39;00m framework\n",
      "File \u001b[1;32mc:\\Users\\lms99\\anaconda3\\envs\\test1\\lib\\site-packages\\paddle\\base\\core.py:380\u001b[0m\n\u001b[0;32m    375\u001b[0m     \u001b[38;5;28;01mif\u001b[39;00m \u001b[38;5;129;01mnot\u001b[39;00m avx_supported() \u001b[38;5;129;01mand\u001b[39;00m libpaddle\u001b[38;5;241m.\u001b[39mis_compiled_with_avx():\n\u001b[0;32m    376\u001b[0m         sys\u001b[38;5;241m.\u001b[39mstderr\u001b[38;5;241m.\u001b[39mwrite(\n\u001b[0;32m    377\u001b[0m             \u001b[38;5;124m\"\u001b[39m\u001b[38;5;124mError: Your machine doesn\u001b[39m\u001b[38;5;124m'\u001b[39m\u001b[38;5;124mt support AVX, but the installed PaddlePaddle is avx core, \u001b[39m\u001b[38;5;124m\"\u001b[39m\n\u001b[0;32m    378\u001b[0m             \u001b[38;5;124m\"\u001b[39m\u001b[38;5;124myou should reinstall paddlepaddle with no-avx core.\u001b[39m\u001b[38;5;130;01m\\n\u001b[39;00m\u001b[38;5;124m\"\u001b[39m\n\u001b[0;32m    379\u001b[0m         )\n\u001b[1;32m--> 380\u001b[0m     \u001b[38;5;28;01mraise\u001b[39;00m e\n\u001b[0;32m    383\u001b[0m \u001b[38;5;28;01mdef\u001b[39;00m \u001b[38;5;21mset_paddle_custom_device_lib_path\u001b[39m(lib_path):\n\u001b[0;32m    384\u001b[0m     \u001b[38;5;28;01mif\u001b[39;00m os\u001b[38;5;241m.\u001b[39menviron\u001b[38;5;241m.\u001b[39mget(\u001b[38;5;124m'\u001b[39m\u001b[38;5;124mCUSTOM_DEVICE_ROOT\u001b[39m\u001b[38;5;124m'\u001b[39m, \u001b[38;5;28;01mNone\u001b[39;00m) \u001b[38;5;129;01mis\u001b[39;00m \u001b[38;5;129;01mnot\u001b[39;00m \u001b[38;5;28;01mNone\u001b[39;00m:\n\u001b[0;32m    385\u001b[0m         \u001b[38;5;66;03m# use setted environment value\u001b[39;00m\n",
      "File \u001b[1;32mc:\\Users\\lms99\\anaconda3\\envs\\test1\\lib\\site-packages\\paddle\\base\\core.py:268\u001b[0m\n\u001b[0;32m    265\u001b[0m             sys\u001b[38;5;241m.\u001b[39mstderr\u001b[38;5;241m.\u001b[39mwrite(\u001b[38;5;124m'\u001b[39m\u001b[38;5;124mError: Can not preload libgomp.so\u001b[39m\u001b[38;5;124m'\u001b[39m)\n\u001b[0;32m    267\u001b[0m \u001b[38;5;28;01mtry\u001b[39;00m:\n\u001b[1;32m--> 268\u001b[0m     \u001b[38;5;28;01mfrom\u001b[39;00m \u001b[38;5;21;01m.\u001b[39;00m \u001b[38;5;28;01mimport\u001b[39;00m libpaddle\n\u001b[0;32m    270\u001b[0m     \u001b[38;5;28;01mif\u001b[39;00m avx_supported() \u001b[38;5;129;01mand\u001b[39;00m \u001b[38;5;129;01mnot\u001b[39;00m libpaddle\u001b[38;5;241m.\u001b[39mis_compiled_with_avx():\n\u001b[0;32m    271\u001b[0m         sys\u001b[38;5;241m.\u001b[39mstderr\u001b[38;5;241m.\u001b[39mwrite(\n\u001b[0;32m    272\u001b[0m             \u001b[38;5;124m\"\u001b[39m\u001b[38;5;124mHint: Your machine support AVX, but the installed paddlepaddle doesn\u001b[39m\u001b[38;5;124m'\u001b[39m\u001b[38;5;124mt have avx core. \u001b[39m\u001b[38;5;124m\"\u001b[39m\n\u001b[0;32m    273\u001b[0m             \u001b[38;5;124m\"\u001b[39m\u001b[38;5;124mHence, no-avx core with worse performance will be imported.\u001b[39m\u001b[38;5;130;01m\\n\u001b[39;00m\u001b[38;5;124mIf you like, you could \u001b[39m\u001b[38;5;124m\"\u001b[39m\n\u001b[0;32m    274\u001b[0m             \u001b[38;5;124m\"\u001b[39m\u001b[38;5;124mreinstall paddlepaddle by \u001b[39m\u001b[38;5;124m'\u001b[39m\u001b[38;5;124mpython -m pip install --force-reinstall paddlepaddle-gpu[==version]\u001b[39m\u001b[38;5;124m'\u001b[39m\u001b[38;5;124m \u001b[39m\u001b[38;5;124m\"\u001b[39m\n\u001b[0;32m    275\u001b[0m             \u001b[38;5;124m\"\u001b[39m\u001b[38;5;124mto get better performance.\u001b[39m\u001b[38;5;130;01m\\n\u001b[39;00m\u001b[38;5;124m\"\u001b[39m\n\u001b[0;32m    276\u001b[0m         )\n",
      "\u001b[1;31mImportError\u001b[0m: generic_type: type \"_gpuDeviceProperties\" is already registered!"
     ]
    }
   ],
   "source": [
    "from paddleocr import PaddleOCR\n",
    "from PIL import Image\n",
    "\n",
    "# 이미지 경로 설정\n",
    "img_path = \"../test/images/realtest.jpg\"  # 상대 경로 수정\n",
    "\n",
    "# 한국어로 PaddleOCR 초기화\n",
    "ocr = PaddleOCR(use_angle_cls=True, lang='korean')\n",
    "\n",
    "# 이미지에서 텍스트 인식\n",
    "result = ocr.ocr(img_path, cls=True)\n",
    "\n",
    "# 이미지 열기\n",
    "image = Image.open(img_path).convert('RGB')\n",
    "\n",
    "for line in result:\n",
    "    for word in line:\n",
    "        print(word[1])"
   ]
  },
  {
   "cell_type": "code",
   "execution_count": 1,
   "metadata": {},
   "outputs": [
    {
     "name": "stderr",
     "output_type": "stream",
     "text": [
      "c:\\Users\\lms99\\anaconda3\\envs\\test1\\lib\\site-packages\\tqdm\\auto.py:21: TqdmWarning: IProgress not found. Please update jupyter and ipywidgets. See https://ipywidgets.readthedocs.io/en/stable/user_install.html\n",
      "  from .autonotebook import tqdm as notebook_tqdm\n"
     ]
    },
    {
     "name": "stdout",
     "output_type": "stream",
     "text": [
      "tensor([[1.0663, 0.9316, 1.0777],\n",
      "        [0.7581, 0.6589, 0.2396],\n",
      "        [1.2653, 0.7937, 0.8359],\n",
      "        [0.4304, 1.1625, 1.4575],\n",
      "        [0.7520, 1.6114, 1.1199]])\n"
     ]
    }
   ],
   "source": [
    "import torch\n",
    "\n",
    "# 두 개의 랜덤한 행렬을 생성합니다.\n",
    "x = torch.rand(5, 3)\n",
    "y = torch.rand(5, 3)\n",
    "\n",
    "# 두 행렬을 더합니다.\n",
    "result = x + y\n",
    "\n",
    "# 결과 출력\n",
    "print(result)\n"
   ]
  },
  {
   "cell_type": "code",
   "execution_count": 2,
   "metadata": {},
   "outputs": [
    {
     "name": "stdout",
     "output_type": "stream",
     "text": [
      "True\n"
     ]
    }
   ],
   "source": [
    "print(torch.cuda.is_available())"
   ]
  }
 ],
 "metadata": {
  "kernelspec": {
   "display_name": "test1",
   "language": "python",
   "name": "python3"
  },
  "language_info": {
   "codemirror_mode": {
    "name": "ipython",
    "version": 3
   },
   "file_extension": ".py",
   "mimetype": "text/x-python",
   "name": "python",
   "nbconvert_exporter": "python",
   "pygments_lexer": "ipython3",
   "version": "3.8.19"
  }
 },
 "nbformat": 4,
 "nbformat_minor": 2
}
